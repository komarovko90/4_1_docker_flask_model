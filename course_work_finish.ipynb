{
 "cells": [
  {
   "cell_type": "code",
   "execution_count": 1,
   "metadata": {
    "scrolled": true
   },
   "outputs": [],
   "source": [
    "import pandas as pd\n",
    "import numpy as np\n",
    "# import ast\n",
    "\n",
    "from sklearn.ensemble import RandomForestRegressor\n",
    "from sklearn.metrics import mean_absolute_error, mean_squared_error, r2_score"
   ]
  },
  {
   "cell_type": "code",
   "execution_count": 2,
   "metadata": {},
   "outputs": [],
   "source": [
    "df = pd.read_csv('car_price_08_11_2020_final.csv',sep=',')"
   ]
  },
  {
   "cell_type": "code",
   "execution_count": 3,
   "metadata": {},
   "outputs": [
    {
     "data": {
      "text/html": [
       "<div>\n",
       "<style scoped>\n",
       "    .dataframe tbody tr th:only-of-type {\n",
       "        vertical-align: middle;\n",
       "    }\n",
       "\n",
       "    .dataframe tbody tr th {\n",
       "        vertical-align: top;\n",
       "    }\n",
       "\n",
       "    .dataframe thead th {\n",
       "        text-align: right;\n",
       "    }\n",
       "</style>\n",
       "<table border=\"1\" class=\"dataframe\">\n",
       "  <thead>\n",
       "    <tr style=\"text-align: right;\">\n",
       "      <th></th>\n",
       "      <th>brand</th>\n",
       "      <th>engineDisplacement</th>\n",
       "      <th>enginePower</th>\n",
       "      <th>fuelType</th>\n",
       "      <th>mileage</th>\n",
       "      <th>modelDate</th>\n",
       "      <th>model_name</th>\n",
       "      <th>numberOfDoors</th>\n",
       "      <th>productionDate</th>\n",
       "      <th>vehicleTransmission</th>\n",
       "      <th>vendor</th>\n",
       "      <th>ПТС</th>\n",
       "      <th>Привод</th>\n",
       "      <th>Руль</th>\n",
       "      <th>price</th>\n",
       "      <th>auto_class</th>\n",
       "      <th>price_segment</th>\n",
       "      <th>seller_type</th>\n",
       "      <th>section</th>\n",
       "      <th>color</th>\n",
       "    </tr>\n",
       "  </thead>\n",
       "  <tbody>\n",
       "    <tr>\n",
       "      <th>0</th>\n",
       "      <td>MERCEDES</td>\n",
       "      <td>1332</td>\n",
       "      <td>150</td>\n",
       "      <td>бензин</td>\n",
       "      <td>10939</td>\n",
       "      <td>2018</td>\n",
       "      <td>A_KLASSE</td>\n",
       "      <td>5</td>\n",
       "      <td>2018</td>\n",
       "      <td>роботизированная</td>\n",
       "      <td>EUROPEAN</td>\n",
       "      <td>Оригинал</td>\n",
       "      <td>передний</td>\n",
       "      <td>левый</td>\n",
       "      <td>2097000</td>\n",
       "      <td>C</td>\n",
       "      <td>PREMIUM</td>\n",
       "      <td>COMMERCIAL</td>\n",
       "      <td>NaN</td>\n",
       "      <td>белый</td>\n",
       "    </tr>\n",
       "    <tr>\n",
       "      <th>1</th>\n",
       "      <td>MERCEDES</td>\n",
       "      <td>1595</td>\n",
       "      <td>122</td>\n",
       "      <td>бензин</td>\n",
       "      <td>56671</td>\n",
       "      <td>2012</td>\n",
       "      <td>A_KLASSE</td>\n",
       "      <td>5</td>\n",
       "      <td>2015</td>\n",
       "      <td>роботизированная</td>\n",
       "      <td>EUROPEAN</td>\n",
       "      <td>Оригинал</td>\n",
       "      <td>передний</td>\n",
       "      <td>левый</td>\n",
       "      <td>1298000</td>\n",
       "      <td>C</td>\n",
       "      <td>PREMIUM</td>\n",
       "      <td>COMMERCIAL</td>\n",
       "      <td>NaN</td>\n",
       "      <td>белый</td>\n",
       "    </tr>\n",
       "  </tbody>\n",
       "</table>\n",
       "</div>"
      ],
      "text/plain": [
       "      brand  engineDisplacement  enginePower fuelType  mileage  modelDate  \\\n",
       "0  MERCEDES                1332          150   бензин    10939       2018   \n",
       "1  MERCEDES                1595          122   бензин    56671       2012   \n",
       "\n",
       "  model_name  numberOfDoors  productionDate vehicleTransmission    vendor  \\\n",
       "0   A_KLASSE              5            2018    роботизированная  EUROPEAN   \n",
       "1   A_KLASSE              5            2015    роботизированная  EUROPEAN   \n",
       "\n",
       "        ПТС    Привод   Руль    price auto_class price_segment seller_type  \\\n",
       "0  Оригинал  передний  левый  2097000          C       PREMIUM  COMMERCIAL   \n",
       "1  Оригинал  передний  левый  1298000          C       PREMIUM  COMMERCIAL   \n",
       "\n",
       "  section  color  \n",
       "0     NaN  белый  \n",
       "1     NaN  белый  "
      ]
     },
     "execution_count": 3,
     "metadata": {},
     "output_type": "execute_result"
    }
   ],
   "source": [
    "del_column=['model_info', 'equipment_dict', 'Владельцы','Таможня', 'Состояние', 'priceCurrency', 'name', 'url_saleid', 'image', 'bodyType', 'description', 'parsing_unixtime', 'sell_id','super_gen','vehicleConfiguration']\n",
    "df.drop(del_column, axis=1,inplace=True)\n",
    "df.head(2)"
   ]
  },
  {
   "cell_type": "code",
   "execution_count": 4,
   "metadata": {},
   "outputs": [
    {
     "data": {
      "text/plain": [
       "brand                     0\n",
       "engineDisplacement        0\n",
       "enginePower               0\n",
       "fuelType                  0\n",
       "mileage                   0\n",
       "modelDate                 0\n",
       "model_name                0\n",
       "numberOfDoors             0\n",
       "productionDate            0\n",
       "vehicleTransmission       0\n",
       "vendor                    0\n",
       "ПТС                     333\n",
       "Привод                    0\n",
       "Руль                      0\n",
       "price                     0\n",
       "auto_class              312\n",
       "price_segment             0\n",
       "seller_type               0\n",
       "section                3669\n",
       "color                     0\n",
       "dtype: int64"
      ]
     },
     "execution_count": 4,
     "metadata": {},
     "output_type": "execute_result"
    }
   ],
   "source": [
    "df.isnull().sum()"
   ]
  },
  {
   "cell_type": "markdown",
   "metadata": {},
   "source": [
    "#### Удаляем строки с пустыми значениями ПТС и auto_class"
   ]
  },
  {
   "cell_type": "code",
   "execution_count": 5,
   "metadata": {},
   "outputs": [],
   "source": [
    "# удаляем пустые значения\n",
    "df.dropna(subset=['ПТС'],axis=0, inplace=True)\n",
    "df.dropna(subset=['auto_class'],axis=0, inplace=True)\n",
    "\n",
    "df.reset_index(drop=True, inplace=True)"
   ]
  },
  {
   "cell_type": "markdown",
   "metadata": {},
   "source": [
    "### Обработка признаков"
   ]
  },
  {
   "cell_type": "markdown",
   "metadata": {},
   "source": [
    "##### price"
   ]
  },
  {
   "cell_type": "code",
   "execution_count": 6,
   "metadata": {},
   "outputs": [],
   "source": [
    "# стоимость авто переведем в доллары по курсу ноября 2020\n",
    "usd_to_rub = 76\n",
    "df.price = df.price/usd_to_rub"
   ]
  },
  {
   "cell_type": "markdown",
   "metadata": {},
   "source": [
    "##### numberOfDoors"
   ]
  },
  {
   "cell_type": "code",
   "execution_count": 7,
   "metadata": {},
   "outputs": [
    {
     "data": {
      "text/plain": [
       "5    34145\n",
       "4    19764\n",
       "3     1644\n",
       "2     1510\n",
       "Name: numberOfDoors, dtype: int64"
      ]
     },
     "execution_count": 7,
     "metadata": {},
     "output_type": "execute_result"
    }
   ],
   "source": [
    "df['numberOfDoors'].value_counts()"
   ]
  },
  {
   "cell_type": "code",
   "execution_count": 8,
   "metadata": {},
   "outputs": [],
   "source": [
    "# удалим авто с нулевым количеством дверей\n",
    "df = df.drop(df[df.numberOfDoors==0].index)"
   ]
  },
  {
   "cell_type": "markdown",
   "metadata": {},
   "source": [
    "##### vendor"
   ]
  },
  {
   "cell_type": "code",
   "execution_count": 9,
   "metadata": {},
   "outputs": [
    {
     "data": {
      "text/plain": [
       "EUROPEAN    39082\n",
       "JAPANESE    17980\n",
       "RUSSIAN         1\n",
       "Name: vendor, dtype: int64"
      ]
     },
     "execution_count": 9,
     "metadata": {},
     "output_type": "execute_result"
    }
   ],
   "source": [
    "df['vendor'].value_counts()"
   ]
  },
  {
   "cell_type": "code",
   "execution_count": 10,
   "metadata": {},
   "outputs": [],
   "source": [
    "# замена значения \n",
    "df.loc[df['vendor']=='RUSSIAN', 'vendor'] = 'JAPANESE'"
   ]
  },
  {
   "cell_type": "markdown",
   "metadata": {},
   "source": [
    "##### section"
   ]
  },
  {
   "cell_type": "code",
   "execution_count": 11,
   "metadata": {},
   "outputs": [
    {
     "data": {
      "text/plain": [
       "used    41007\n",
       "new     12403\n",
       "Name: section, dtype: int64"
      ]
     },
     "execution_count": 11,
     "metadata": {},
     "output_type": "execute_result"
    }
   ],
   "source": [
    "df['section'].value_counts() "
   ]
  },
  {
   "cell_type": "code",
   "execution_count": 12,
   "metadata": {},
   "outputs": [
    {
     "data": {
      "text/plain": [
       "brand                     0\n",
       "engineDisplacement        0\n",
       "enginePower               0\n",
       "fuelType                  0\n",
       "mileage                   0\n",
       "modelDate                 0\n",
       "model_name                0\n",
       "numberOfDoors             0\n",
       "productionDate            0\n",
       "vehicleTransmission       0\n",
       "vendor                    0\n",
       "ПТС                       0\n",
       "Привод                    0\n",
       "Руль                      0\n",
       "price                     0\n",
       "auto_class                0\n",
       "price_segment             0\n",
       "seller_type               0\n",
       "section                3653\n",
       "color                     0\n",
       "dtype: int64"
      ]
     },
     "execution_count": 12,
     "metadata": {},
     "output_type": "execute_result"
    }
   ],
   "source": [
    "df.isnull().sum()"
   ]
  },
  {
   "cell_type": "code",
   "execution_count": 13,
   "metadata": {},
   "outputs": [
    {
     "data": {
      "text/plain": [
       "Int64Index([  91,  168,  339,  462,  468,  518,  661,  716,  717, 1334, 1522,\n",
       "            1539, 1592, 1597, 1615, 1906, 2054, 2368, 2816, 3262, 3386, 3420,\n",
       "            3440, 3487, 3505],\n",
       "           dtype='int64')"
      ]
     },
     "execution_count": 13,
     "metadata": {},
     "output_type": "execute_result"
    }
   ],
   "source": [
    "df.loc[df['section'].isnull() & (df['mileage']<2000), 'mileage'].index"
   ]
  },
  {
   "cell_type": "code",
   "execution_count": 14,
   "metadata": {},
   "outputs": [],
   "source": [
    "# Заменяю пустые поля, значением new, где пробег менее 2000\n",
    "df.iloc[df.loc[df['section'].isnull() & (df['mileage']<2000), 'mileage'].index, df.columns.get_loc('section')] = 'new'\n",
    "\n",
    "# Заменяем оставшиеся пустые поля, значением used\n",
    "df.iloc[df.loc[df['section'].isnull(), ['mileage']].index, df.columns.get_loc('section')] = 'used'"
   ]
  },
  {
   "cell_type": "markdown",
   "metadata": {},
   "source": [
    "##### engineDisplacement==0"
   ]
  },
  {
   "cell_type": "code",
   "execution_count": 15,
   "metadata": {},
   "outputs": [
    {
     "data": {
      "text/html": [
       "<div>\n",
       "<style scoped>\n",
       "    .dataframe tbody tr th:only-of-type {\n",
       "        vertical-align: middle;\n",
       "    }\n",
       "\n",
       "    .dataframe tbody tr th {\n",
       "        vertical-align: top;\n",
       "    }\n",
       "\n",
       "    .dataframe thead th {\n",
       "        text-align: right;\n",
       "    }\n",
       "</style>\n",
       "<table border=\"1\" class=\"dataframe\">\n",
       "  <thead>\n",
       "    <tr style=\"text-align: right;\">\n",
       "      <th></th>\n",
       "      <th>brand</th>\n",
       "      <th>model_name</th>\n",
       "      <th>engineDisplacement</th>\n",
       "    </tr>\n",
       "  </thead>\n",
       "  <tbody>\n",
       "    <tr>\n",
       "      <th>3467</th>\n",
       "      <td>NISSAN</td>\n",
       "      <td>LEAF</td>\n",
       "      <td>0</td>\n",
       "    </tr>\n",
       "    <tr>\n",
       "      <th>3468</th>\n",
       "      <td>NISSAN</td>\n",
       "      <td>LEAF</td>\n",
       "      <td>0</td>\n",
       "    </tr>\n",
       "    <tr>\n",
       "      <th>4481</th>\n",
       "      <td>MERCEDES</td>\n",
       "      <td>B_KLASSE</td>\n",
       "      <td>0</td>\n",
       "    </tr>\n",
       "    <tr>\n",
       "      <th>11976</th>\n",
       "      <td>MERCEDES</td>\n",
       "      <td>EQC</td>\n",
       "      <td>0</td>\n",
       "    </tr>\n",
       "    <tr>\n",
       "      <th>11977</th>\n",
       "      <td>MERCEDES</td>\n",
       "      <td>EQC</td>\n",
       "      <td>0</td>\n",
       "    </tr>\n",
       "    <tr>\n",
       "      <th>...</th>\n",
       "      <td>...</td>\n",
       "      <td>...</td>\n",
       "      <td>...</td>\n",
       "    </tr>\n",
       "    <tr>\n",
       "      <th>44137</th>\n",
       "      <td>AUDI</td>\n",
       "      <td>E_TRON</td>\n",
       "      <td>0</td>\n",
       "    </tr>\n",
       "    <tr>\n",
       "      <th>44138</th>\n",
       "      <td>AUDI</td>\n",
       "      <td>E_TRON</td>\n",
       "      <td>0</td>\n",
       "    </tr>\n",
       "    <tr>\n",
       "      <th>44191</th>\n",
       "      <td>AUDI</td>\n",
       "      <td>E_TRON</td>\n",
       "      <td>0</td>\n",
       "    </tr>\n",
       "    <tr>\n",
       "      <th>49500</th>\n",
       "      <td>VOLKSWAGEN</td>\n",
       "      <td>GOLF</td>\n",
       "      <td>0</td>\n",
       "    </tr>\n",
       "    <tr>\n",
       "      <th>49505</th>\n",
       "      <td>VOLKSWAGEN</td>\n",
       "      <td>GOLF</td>\n",
       "      <td>0</td>\n",
       "    </tr>\n",
       "  </tbody>\n",
       "</table>\n",
       "<p>89 rows × 3 columns</p>\n",
       "</div>"
      ],
      "text/plain": [
       "            brand model_name  engineDisplacement\n",
       "3467       NISSAN       LEAF                   0\n",
       "3468       NISSAN       LEAF                   0\n",
       "4481     MERCEDES   B_KLASSE                   0\n",
       "11976    MERCEDES        EQC                   0\n",
       "11977    MERCEDES        EQC                   0\n",
       "...           ...        ...                 ...\n",
       "44137        AUDI     E_TRON                   0\n",
       "44138        AUDI     E_TRON                   0\n",
       "44191        AUDI     E_TRON                   0\n",
       "49500  VOLKSWAGEN       GOLF                   0\n",
       "49505  VOLKSWAGEN       GOLF                   0\n",
       "\n",
       "[89 rows x 3 columns]"
      ]
     },
     "execution_count": 15,
     "metadata": {},
     "output_type": "execute_result"
    }
   ],
   "source": [
    "df[['brand', 'model_name', 'engineDisplacement']].loc[df['engineDisplacement']==0] "
   ]
  },
  {
   "cell_type": "code",
   "execution_count": 16,
   "metadata": {},
   "outputs": [],
   "source": [
    "# заполнение объема двигателя авто, где значения равны 0, медианными значениями объема среди таких же моделей авто\n",
    "map_engine = df.groupby(['brand','model_name'])['engineDisplacement'].median()\n",
    "map_index_engine = df.loc[df['engineDisplacement'] == 0].index\n",
    "for i in map_index_engine:\n",
    "    df.iloc[i,  df.columns.get_loc('engineDisplacement')] = map_engine[df.iloc[i, df.columns.get_loc('brand')], df.iloc[i, df.columns.get_loc('model_name')]]"
   ]
  },
  {
   "cell_type": "code",
   "execution_count": 17,
   "metadata": {},
   "outputs": [
    {
     "data": {
      "text/html": [
       "<div>\n",
       "<style scoped>\n",
       "    .dataframe tbody tr th:only-of-type {\n",
       "        vertical-align: middle;\n",
       "    }\n",
       "\n",
       "    .dataframe tbody tr th {\n",
       "        vertical-align: top;\n",
       "    }\n",
       "\n",
       "    .dataframe thead th {\n",
       "        text-align: right;\n",
       "    }\n",
       "</style>\n",
       "<table border=\"1\" class=\"dataframe\">\n",
       "  <thead>\n",
       "    <tr style=\"text-align: right;\">\n",
       "      <th></th>\n",
       "      <th>brand</th>\n",
       "      <th>engineDisplacement</th>\n",
       "      <th>enginePower</th>\n",
       "      <th>fuelType</th>\n",
       "      <th>mileage</th>\n",
       "      <th>modelDate</th>\n",
       "      <th>model_name</th>\n",
       "      <th>numberOfDoors</th>\n",
       "      <th>productionDate</th>\n",
       "      <th>vehicleTransmission</th>\n",
       "      <th>vendor</th>\n",
       "      <th>ПТС</th>\n",
       "      <th>Привод</th>\n",
       "      <th>Руль</th>\n",
       "      <th>price</th>\n",
       "      <th>auto_class</th>\n",
       "      <th>price_segment</th>\n",
       "      <th>seller_type</th>\n",
       "      <th>section</th>\n",
       "      <th>color</th>\n",
       "    </tr>\n",
       "  </thead>\n",
       "  <tbody>\n",
       "    <tr>\n",
       "      <th>0</th>\n",
       "      <td>MERCEDES</td>\n",
       "      <td>1332.0</td>\n",
       "      <td>150</td>\n",
       "      <td>бензин</td>\n",
       "      <td>10939</td>\n",
       "      <td>2018</td>\n",
       "      <td>A_KLASSE</td>\n",
       "      <td>5</td>\n",
       "      <td>2018</td>\n",
       "      <td>роботизированная</td>\n",
       "      <td>EUROPEAN</td>\n",
       "      <td>Оригинал</td>\n",
       "      <td>передний</td>\n",
       "      <td>левый</td>\n",
       "      <td>27592.105263</td>\n",
       "      <td>C</td>\n",
       "      <td>PREMIUM</td>\n",
       "      <td>COMMERCIAL</td>\n",
       "      <td>used</td>\n",
       "      <td>белый</td>\n",
       "    </tr>\n",
       "    <tr>\n",
       "      <th>1</th>\n",
       "      <td>MERCEDES</td>\n",
       "      <td>1595.0</td>\n",
       "      <td>122</td>\n",
       "      <td>бензин</td>\n",
       "      <td>56671</td>\n",
       "      <td>2012</td>\n",
       "      <td>A_KLASSE</td>\n",
       "      <td>5</td>\n",
       "      <td>2015</td>\n",
       "      <td>роботизированная</td>\n",
       "      <td>EUROPEAN</td>\n",
       "      <td>Оригинал</td>\n",
       "      <td>передний</td>\n",
       "      <td>левый</td>\n",
       "      <td>17078.947368</td>\n",
       "      <td>C</td>\n",
       "      <td>PREMIUM</td>\n",
       "      <td>COMMERCIAL</td>\n",
       "      <td>used</td>\n",
       "      <td>белый</td>\n",
       "    </tr>\n",
       "  </tbody>\n",
       "</table>\n",
       "</div>"
      ],
      "text/plain": [
       "      brand  engineDisplacement  enginePower fuelType  mileage  modelDate  \\\n",
       "0  MERCEDES              1332.0          150   бензин    10939       2018   \n",
       "1  MERCEDES              1595.0          122   бензин    56671       2012   \n",
       "\n",
       "  model_name  numberOfDoors  productionDate vehicleTransmission    vendor  \\\n",
       "0   A_KLASSE              5            2018    роботизированная  EUROPEAN   \n",
       "1   A_KLASSE              5            2015    роботизированная  EUROPEAN   \n",
       "\n",
       "        ПТС    Привод   Руль         price auto_class price_segment  \\\n",
       "0  Оригинал  передний  левый  27592.105263          C       PREMIUM   \n",
       "1  Оригинал  передний  левый  17078.947368          C       PREMIUM   \n",
       "\n",
       "  seller_type section  color  \n",
       "0  COMMERCIAL    used  белый  \n",
       "1  COMMERCIAL    used  белый  "
      ]
     },
     "execution_count": 17,
     "metadata": {},
     "output_type": "execute_result"
    }
   ],
   "source": [
    "df.head(2)"
   ]
  },
  {
   "cell_type": "markdown",
   "metadata": {},
   "source": [
    "### Обучение модели"
   ]
  },
  {
   "cell_type": "code",
   "execution_count": 18,
   "metadata": {},
   "outputs": [],
   "source": [
    "from sklearn.model_selection import train_test_split"
   ]
  },
  {
   "cell_type": "code",
   "execution_count": 19,
   "metadata": {},
   "outputs": [
    {
     "data": {
      "text/plain": [
       "(41656, 19)"
      ]
     },
     "execution_count": 19,
     "metadata": {},
     "output_type": "execute_result"
    }
   ],
   "source": [
    "X_test, X_train, y_test, y_train = train_test_split(df.drop('price',axis=1), df['price'], train_size=0.27, random_state=42)\n",
    "X_train.shape"
   ]
  },
  {
   "cell_type": "code",
   "execution_count": 20,
   "metadata": {},
   "outputs": [],
   "source": [
    "X_test.to_csv('X_test.csv')\n",
    "y_test.to_csv('y_test.csv')"
   ]
  },
  {
   "cell_type": "markdown",
   "metadata": {},
   "source": [
    "### Создание pipeline"
   ]
  },
  {
   "cell_type": "code",
   "execution_count": 21,
   "metadata": {},
   "outputs": [],
   "source": [
    "from sklearn.pipeline import Pipeline, make_pipeline, FeatureUnion\n",
    "from sklearn.base import BaseEstimator, TransformerMixin\n",
    "from sklearn.pipeline import FeatureUnion"
   ]
  },
  {
   "cell_type": "code",
   "execution_count": 22,
   "metadata": {},
   "outputs": [],
   "source": [
    "class ColumnSelector(BaseEstimator, TransformerMixin):\n",
    "    \"\"\"\n",
    "    Transformer to select a single column from the data frame to perform additional transformations on\n",
    "    \"\"\"\n",
    "    def __init__(self, key):\n",
    "        self.key = key\n",
    "\n",
    "    def fit(self, X, y=None):\n",
    "        return self\n",
    "\n",
    "    def transform(self, X):\n",
    "        return X[self.key]\n",
    "    \n",
    "class NumberSelector(BaseEstimator, TransformerMixin):\n",
    "    \"\"\"\n",
    "    Transformer to select a single column from the data frame to perform additional transformations on\n",
    "    Use on numeric columns in the data\n",
    "    \"\"\"\n",
    "    def __init__(self, key):\n",
    "        self.key = key\n",
    "\n",
    "    def fit(self, X, y=None):\n",
    "        return self\n",
    "\n",
    "    def transform(self, X):\n",
    "        return X[[self.key]]\n",
    "    \n",
    "class OHEEncoder(BaseEstimator, TransformerMixin):\n",
    "    '''\n",
    "    Трансформирует категориальный признак c помощью get_dummies(drop_first=True)\n",
    "    '''\n",
    "    def __init__(self, key):\n",
    "        self.key = key\n",
    "        self.columns = []\n",
    "\n",
    "    def fit(self, X, y=None):\n",
    "        self.columns = [col for col in pd.get_dummies(X, prefix=self.key,  drop_first=True).columns]\n",
    "        return self\n",
    "\n",
    "    def transform(self, X):\n",
    "        X = pd.get_dummies(X, prefix=self.key,  drop_first=True)\n",
    "        test_columns = [col for col in X.columns]\n",
    "        for col_ in test_columns:\n",
    "            if col_ not in self.columns:\n",
    "                X[col_] = 0\n",
    "        return X[self.columns]\n",
    "    \n",
    "class CountEncoder(BaseEstimator, TransformerMixin):\n",
    "    '''\n",
    "    Трансформирует категориальный признак. Заменяет каждый признак \n",
    "    количеством соответствующих признаков в датасете\n",
    "    '''\n",
    "    def __init__(self, key):\n",
    "        self.key = key\n",
    "        \n",
    "    def fit(self, X, y=None):\n",
    "        self.mapping = X.groupby([self.key]).size()\n",
    "        return self\n",
    "\n",
    "    def transform(self, X):\n",
    "        X.loc[:,self.key] = X.loc[:,self.key].map(self.mapping)\n",
    "        return X[[self.key]].copy()\n",
    "\n",
    "class FixEncoder(BaseEstimator, TransformerMixin):\n",
    "    '''\n",
    "    Трансформирует категориальный признак ['Привод', 'auto_class', 'price_segment']. \n",
    "    Заменяет признаки на константы.\n",
    "    '''\n",
    "    def __init__(self):\n",
    "        self.map_privod = {'задний':0, 'передний':1, 'полный':2}\n",
    "        self.map_auto_class = {'A':0, 'B':1, 'C':2, 'D':3, 'E':4, 'F':5, 'J':6, 'M':7, 'S':8}\n",
    "        self.map_price_segment = {'ECONOMY':0, 'MEDIUM':1, 'PREMIUM':2}\n",
    "\n",
    "    def fit(self, X, y=None):\n",
    "        return self\n",
    "\n",
    "    def transform(self, X):\n",
    "        X.replace({'Привод': self.map_privod, 'auto_class': self.map_auto_class, \\\n",
    "                  'price_segment': self.map_price_segment}, inplace=True)\n",
    "#         X.loc[:,'Привод'] = X.loc[:,'Привод'].map(self.map_privod)\n",
    "#         X.loc[:,'auto_class'] = X.loc[:,'auto_class'].map(self.map_auto_class)\n",
    "#         X.loc[:,'price_segment'] = X.loc[:,'price_segment'].map(self.map_price_segment)\n",
    "        return X.copy()"
   ]
  },
  {
   "cell_type": "code",
   "execution_count": 23,
   "metadata": {},
   "outputs": [],
   "source": [
    "fix_features= ['Привод', 'auto_class', 'price_segment']\n",
    "dummies_features=['Руль', 'vendor', 'ПТС', 'seller_type', 'section']\n",
    "countencoder_features = ['fuelType', 'numberOfDoors', 'vehicleTransmission', 'color', 'brand', 'model_name']\n",
    "\n",
    "remainig_features = list(X_train.columns)\n",
    "for _ in fix_features:\n",
    "    remainig_features.remove(_)\n",
    "\n",
    "for _ in dummies_features:\n",
    "    remainig_features.remove(_)\n",
    "\n",
    "for _ in countencoder_features:\n",
    "    remainig_features.remove(_)\n"
   ]
  },
  {
   "cell_type": "code",
   "execution_count": 33,
   "metadata": {},
   "outputs": [
    {
     "data": {
      "text/plain": [
       "['engineDisplacement', 'enginePower', 'mileage', 'modelDate', 'productionDate']"
      ]
     },
     "execution_count": 33,
     "metadata": {},
     "output_type": "execute_result"
    }
   ],
   "source": [
    "remainig_features"
   ]
  },
  {
   "cell_type": "code",
   "execution_count": 24,
   "metadata": {},
   "outputs": [],
   "source": [
    "final_transformers = list()\n",
    "\n",
    "# dummies_feutures - преобразуем с помощью OHEEncoder\n",
    "transformer = Pipeline([\n",
    "                ('selector', ColumnSelector(key=dummies_features)),\n",
    "                ('scaler_dummies', OHEEncoder(key=dummies_features))\n",
    "        ])\n",
    "final_transformers.append(('dummies_feutures', transformer))\n",
    "\n",
    "# fix_features - преобразуем с помощью FixEncoder\n",
    "transformer = Pipeline([\n",
    "                ('selector', ColumnSelector(key=fix_features)),\n",
    "                ('scale_fix', FixEncoder())\n",
    "        ])\n",
    "final_transformers.append(('fix_features', transformer))\n",
    "\n",
    "\n",
    "\n",
    "# countencoder_features - преобразуем с помощью CountEncoder\n",
    "for col in countencoder_features:\n",
    "    transformer = Pipeline([\n",
    "                    ('selector', NumberSelector(key=col)),\n",
    "                    ('scaler_count', CountEncoder(key=col))\n",
    "            ])\n",
    "    final_transformers.append((col, transformer))\n",
    "\n",
    "    \n",
    "# remainig_feutures - оставляем как в исходнике\n",
    "transformer = Pipeline([\n",
    "                    ('selector', ColumnSelector(key=remainig_features))\n",
    "        ])\n",
    "final_transformers.append(('remainig_feutures',transformer))"
   ]
  },
  {
   "cell_type": "code",
   "execution_count": 25,
   "metadata": {},
   "outputs": [],
   "source": [
    "feats = FeatureUnion(final_transformers)"
   ]
  },
  {
   "cell_type": "code",
   "execution_count": 26,
   "metadata": {},
   "outputs": [
    {
     "data": {
      "text/plain": [
       "FeatureUnion(n_jobs=None,\n",
       "             transformer_list=[('dummies_feutures',\n",
       "                                Pipeline(memory=None,\n",
       "                                         steps=[('selector',\n",
       "                                                 ColumnSelector(key=['Руль',\n",
       "                                                                     'vendor',\n",
       "                                                                     'ПТС',\n",
       "                                                                     'seller_type',\n",
       "                                                                     'section'])),\n",
       "                                                ('scaler_dummies',\n",
       "                                                 OHEEncoder(key=['Руль',\n",
       "                                                                 'vendor',\n",
       "                                                                 'ПТС',\n",
       "                                                                 'seller_type',\n",
       "                                                                 'section']))],\n",
       "                                         verbose=False)),\n",
       "                               ('fix_features',\n",
       "                                Pipeline(memory=None,\n",
       "                                         steps=[('selector',\n",
       "                                                 ColumnSelector(key=['П...\n",
       "                                Pipeline(memory=None,\n",
       "                                         steps=[('selector',\n",
       "                                                 NumberSelector(key='model_name')),\n",
       "                                                ('scaler_count',\n",
       "                                                 CountEncoder(key='model_name'))],\n",
       "                                         verbose=False)),\n",
       "                               ('remainig_feutures',\n",
       "                                Pipeline(memory=None,\n",
       "                                         steps=[('selector',\n",
       "                                                 ColumnSelector(key=['engineDisplacement',\n",
       "                                                                     'enginePower',\n",
       "                                                                     'mileage',\n",
       "                                                                     'modelDate',\n",
       "                                                                     'productionDate']))],\n",
       "                                         verbose=False))],\n",
       "             transformer_weights=None, verbose=False)"
      ]
     },
     "execution_count": 26,
     "metadata": {},
     "output_type": "execute_result"
    }
   ],
   "source": [
    "feats.fit(df.drop('price',axis=1), df['price'])"
   ]
  },
  {
   "cell_type": "code",
   "execution_count": 27,
   "metadata": {},
   "outputs": [],
   "source": [
    "regressor = Pipeline([\n",
    "    ('features', feats),\n",
    "    ('regressor', RandomForestRegressor())\n",
    "])"
   ]
  },
  {
   "cell_type": "code",
   "execution_count": 28,
   "metadata": {
    "scrolled": false
   },
   "outputs": [
    {
     "name": "stderr",
     "output_type": "stream",
     "text": [
      "C:\\Progs\\Anaconda\\lib\\site-packages\\pandas\\core\\generic.py:6666: SettingWithCopyWarning: \n",
      "A value is trying to be set on a copy of a slice from a DataFrame.\n",
      "Try using .loc[row_indexer,col_indexer] = value instead\n",
      "\n",
      "See the caveats in the documentation: https://pandas.pydata.org/pandas-docs/stable/user_guide/indexing.html#returning-a-view-versus-a-copy\n",
      "  regex=regex,\n",
      "C:\\Progs\\Anaconda\\lib\\site-packages\\pandas\\core\\indexing.py:1047: SettingWithCopyWarning: \n",
      "A value is trying to be set on a copy of a slice from a DataFrame.\n",
      "Try using .loc[row_indexer,col_indexer] = value instead\n",
      "\n",
      "See the caveats in the documentation: https://pandas.pydata.org/pandas-docs/stable/user_guide/indexing.html#returning-a-view-versus-a-copy\n",
      "  self.obj[item_labels[indexer[info_axis]]] = value\n"
     ]
    },
    {
     "data": {
      "text/plain": [
       "Pipeline(memory=None,\n",
       "         steps=[('features',\n",
       "                 FeatureUnion(n_jobs=None,\n",
       "                              transformer_list=[('dummies_feutures',\n",
       "                                                 Pipeline(memory=None,\n",
       "                                                          steps=[('selector',\n",
       "                                                                  ColumnSelector(key=['Руль',\n",
       "                                                                                      'vendor',\n",
       "                                                                                      'ПТС',\n",
       "                                                                                      'seller_type',\n",
       "                                                                                      'section'])),\n",
       "                                                                 ('scaler_dummies',\n",
       "                                                                  OHEEncoder(key=['Руль',\n",
       "                                                                                  'vendor',\n",
       "                                                                                  'ПТС',\n",
       "                                                                                  'seller_type',\n",
       "                                                                                  'section']))],\n",
       "                                                          verbose=False)),\n",
       "                                                ('fix_features',\n",
       "                                                 Pipeline(memory=None,\n",
       "                                                          s...\n",
       "                 RandomForestRegressor(bootstrap=True, ccp_alpha=0.0,\n",
       "                                       criterion='mse', max_depth=None,\n",
       "                                       max_features='auto', max_leaf_nodes=None,\n",
       "                                       max_samples=None,\n",
       "                                       min_impurity_decrease=0.0,\n",
       "                                       min_impurity_split=None,\n",
       "                                       min_samples_leaf=1, min_samples_split=2,\n",
       "                                       min_weight_fraction_leaf=0.0,\n",
       "                                       n_estimators=100, n_jobs=None,\n",
       "                                       oob_score=False, random_state=None,\n",
       "                                       verbose=0, warm_start=False))],\n",
       "         verbose=False)"
      ]
     },
     "execution_count": 28,
     "metadata": {},
     "output_type": "execute_result"
    }
   ],
   "source": [
    "# regressor.fit(X_train, y_train)\n",
    "regressor.fit(df.drop('price',axis=1), df['price'])"
   ]
  },
  {
   "cell_type": "code",
   "execution_count": 29,
   "metadata": {},
   "outputs": [
    {
     "name": "stderr",
     "output_type": "stream",
     "text": [
      "C:\\Progs\\Anaconda\\lib\\site-packages\\pandas\\core\\generic.py:6666: SettingWithCopyWarning: \n",
      "A value is trying to be set on a copy of a slice from a DataFrame.\n",
      "Try using .loc[row_indexer,col_indexer] = value instead\n",
      "\n",
      "See the caveats in the documentation: https://pandas.pydata.org/pandas-docs/stable/user_guide/indexing.html#returning-a-view-versus-a-copy\n",
      "  regex=regex,\n",
      "C:\\Progs\\Anaconda\\lib\\site-packages\\pandas\\core\\indexing.py:1047: SettingWithCopyWarning: \n",
      "A value is trying to be set on a copy of a slice from a DataFrame.\n",
      "Try using .loc[row_indexer,col_indexer] = value instead\n",
      "\n",
      "See the caveats in the documentation: https://pandas.pydata.org/pandas-docs/stable/user_guide/indexing.html#returning-a-view-versus-a-copy\n",
      "  self.obj[item_labels[indexer[info_axis]]] = value\n"
     ]
    }
   ],
   "source": [
    "y_pred = regressor.predict(X_test)"
   ]
  },
  {
   "cell_type": "code",
   "execution_count": 30,
   "metadata": {},
   "outputs": [
    {
     "name": "stdout",
     "output_type": "stream",
     "text": [
      "mae: 1185.0381993802848\n",
      "r2: 0.9902917314211762\n"
     ]
    }
   ],
   "source": [
    "mae = mean_absolute_error(y_test, y_pred)\n",
    "# mse = mean_squared_error(y_test, y_pred)\n",
    "r2 = r2_score(y_test, y_pred)\n",
    "print(f'mae: {mae}\\nr2: {r2}')"
   ]
  },
  {
   "cell_type": "code",
   "execution_count": 32,
   "metadata": {
    "scrolled": false
   },
   "outputs": [],
   "source": [
    "# !pip freeze > requirements.txt\n",
    "# !pip install pipreqs\n",
    "# !pipreqs --force --use-local\n",
    "# !conda list -e > requirements.txt"
   ]
  },
  {
   "cell_type": "code",
   "execution_count": null,
   "metadata": {},
   "outputs": [],
   "source": [
    "# asdasdf/0\n",
    "import dill\n",
    "\n",
    "with open(\"regressor_autoru_pipeline.dill\", \"wb\") as f:\n",
    "    dill.dump(regressor, f)"
   ]
  }
 ],
 "metadata": {
  "kernelspec": {
   "display_name": "Python 3",
   "language": "python",
   "name": "python3"
  },
  "language_info": {
   "codemirror_mode": {
    "name": "ipython",
    "version": 3
   },
   "file_extension": ".py",
   "mimetype": "text/x-python",
   "name": "python",
   "nbconvert_exporter": "python",
   "pygments_lexer": "ipython3",
   "version": "3.7.6"
  }
 },
 "nbformat": 4,
 "nbformat_minor": 4
}
